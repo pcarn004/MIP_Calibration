{
 "cells": [
  {
   "cell_type": "markdown",
   "id": "332b4a3f",
   "metadata": {},
   "source": [
    "# <center> Converting .txt files into .pkl files <center>"
   ]
  },
  {
   "cell_type": "code",
   "execution_count": null,
   "id": "f09c851e-f2af-4639-bbbc-64382cf87d6c",
   "metadata": {},
   "outputs": [],
   "source": [
    "import numpy as np\n",
    "import scipy\n",
    "import matplotlib.pyplot as plt\n",
    "import mplhep as hep\n",
    "from scipy.optimize import curve_fit\n",
    "import pandas as pd\n",
    "import hist\n",
    "from hist import Hist\n",
    "\n",
    "plt.style.use(hep.style.ROOT)"
   ]
  },
  {
   "cell_type": "markdown",
   "id": "ad277e5a-f4e6-478f-8605-c203aa7c3a42",
   "metadata": {},
   "source": [
    "### User Defined"
   ]
  },
  {
   "cell_type": "code",
   "execution_count": null,
   "id": "f192e8d7-41a0-4987-a521-27a55433aff6",
   "metadata": {
    "tags": []
   },
   "outputs": [],
   "source": [
    "with open('Run5_list.txt') as f:\n",
    "    lines = f.read().split('\\n')\n",
    "tags = None\n",
    "channels =[]\n",
    "timeStamps = []\n",
    "din={}\n",
    "for line in lines:\n",
    "    if line[:2]==\"//\" or len(line)==0:\n",
    "        continue\n",
    "    #first line after comments\n",
    "    if tags is None:\n",
    "        tags = line.split()\n",
    "        tags=tags[-3:]\n",
    "        continue;\n",
    "    split = line.split()\n",
    "    if(len(split) == 6):\n",
    "        timeStamps.append(float(split[0]))\n",
    "    channel, LG, HG = split[-3:]\n",
    "    if channel not in channels:\n",
    "        din[f\"Ch_{channel}_LG\"] = []\n",
    "        din[f\"Ch_{channel}_HG\"] = []\n",
    "        channels.append(channel)\n",
    "    din[f\"Ch_{channel}_LG\"].append(float(LG))\n",
    "    din[f\"Ch_{channel}_HG\"].append(float(HG))\n",
    "\n",
    "din[f\"TimeStamps\"] = []\n",
    "din[f\"TimeStamps\"] = timeStamps\n",
    "\n",
    "#This says ptrig, but could be used for either ptrig or cosmic data. Just label which is which\n",
    "ptrigDF = pd.DataFrame(din)\n",
    "print(f\"Done! Total events: {len(ptrigDF)}\")\n",
    "#ptrigDF.to_pickle(\"./COSMIC_LG50_HG50_4k_R26.pkl\") \n"
   ]
  },
  {
   "cell_type": "code",
   "execution_count": null,
   "id": "085f5e4b",
   "metadata": {},
   "outputs": [],
   "source": [
    "print(ptrigDF)\n",
    "ptrigDF.to_pickle('./COSMIC_LG50_HG50_4k_R5.pkl')"
   ]
  },
  {
   "cell_type": "markdown",
   "id": "9cbdfc3a",
   "metadata": {},
   "source": [
    "Plotting raw data for inspection"
   ]
  },
  {
   "cell_type": "code",
   "execution_count": null,
   "id": "83bcd753",
   "metadata": {},
   "outputs": [],
   "source": [
    "#plot random trigger spectra for each low gain channel. Fit to gaussian and record pedestals for cuts later\n",
    "\n",
    "fig, axs=plt.subplots(4, 10, figsize=(0.5*len(ptrigDF.columns),15),sharey=True,sharex=True)\n",
    "plt.rcParams['figure.facecolor']='white'\n",
    "plt.rcParams['savefig.facecolor']='white'\n",
    "plt.rcParams['savefig.bbox']='tight'\n",
    "\n",
    "mips = []\n",
    "mipStds = []\n",
    "\n",
    "for i in range(20):\n",
    "    plt.sca(axs[i%4][i//4])\n",
    "\n",
    "    h = hist.Hist(hist.axis.Regular(50, 0, 700, name=\"Ptrig\"))\n",
    "    \n",
    "    cosmicCh = np.array(getattr(ptrigDF,\"Ch_{}_LG\".format(\"{:02d}\".format(i))))\n",
    "  \n",
    "    h.fill(cosmicCh)\n",
    "    #h.plot(color='tab:blue',label=f\"Channel {i} Cosmic Data\")  \n",
    "    \n",
    "    data = h.values()[()]\n",
    "    bins = h.axes[0].edges[:-1]\n",
    "    \n",
    "    plt.errorbar(bins,data,yerr=np.sqrt(data),fmt='o',ecolor='tab:blue', color='tab:blue', capsize=0, elinewidth=1, markeredgewidth=0,label=f\"Channel {i} Cosmic Data\")\n",
    "\n",
    "    \n",
    "    # Find the bin number with the maximum value\n",
    "    max_bin_number = np.argmax(h.values())\n",
    "\n",
    "    # Get the axis from the histogram\n",
    "    axis = h.axes[0]\n",
    "\n",
    "    # Find the x-coordinate corresponding to the maximum bin\n",
    "    x_coordinate = axis.edges[max_bin_number]\n",
    "    #mips.append(x_coordinate)\n",
    "    \n",
    "    \n",
    "    plt.legend(loc='upper right', fontsize=20)    \n",
    "    \n",
    "    # Set the title and axis labels for the subplot   \n",
    "    if (i+1)%4 == 0:\n",
    "        plt.xlabel('Signal Amplitude [ADC]')\n",
    "    if i <= 3:\n",
    "        plt.ylabel('Count')\n",
    "    \n",
    "\n",
    "# Adjust the spacing between subplots\n",
    "plt.ylim(0,300)\n",
    "plt.tight_layout(pad=0.0)\n",
    "plt.subplots_adjust(hspace=0.0, wspace=0.0)"
   ]
  },
  {
   "cell_type": "code",
   "execution_count": null,
   "id": "3cd915cf",
   "metadata": {},
   "outputs": [],
   "source": []
  }
 ],
 "metadata": {
  "kernelspec": {
   "display_name": "Python 3 (ipykernel)",
   "language": "python",
   "name": "python3"
  },
  "language_info": {
   "codemirror_mode": {
    "name": "ipython",
    "version": 3
   },
   "file_extension": ".py",
   "mimetype": "text/x-python",
   "name": "python",
   "nbconvert_exporter": "python",
   "pygments_lexer": "ipython3",
   "version": "3.10.9"
  }
 },
 "nbformat": 4,
 "nbformat_minor": 5
}
